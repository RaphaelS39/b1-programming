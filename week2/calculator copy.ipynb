{
 "cells": [
  {
   "cell_type": "code",
   "execution_count": null,
   "id": "e7be1c83",
   "metadata": {},
   "outputs": [
    {
     "ename": "NameError",
     "evalue": "name 'get_revenue' is not defined",
     "output_type": "error",
     "traceback": [
      "\u001b[31m---------------------------------------------------------------------------\u001b[39m",
      "\u001b[31mNameError\u001b[39m                                 Traceback (most recent call last)",
      "\u001b[36mCell\u001b[39m\u001b[36m \u001b[39m\u001b[32mIn[7]\u001b[39m\u001b[32m, line 1\u001b[39m\n\u001b[32m----> \u001b[39m\u001b[32m1\u001b[39m \u001b[38;5;28;43;01mclass\u001b[39;49;00m\u001b[38;5;250;43m \u001b[39;49m\u001b[34;43;01mBusinessCalculator\u001b[39;49;00m\u001b[43m:\u001b[49m\n\u001b[32m      2\u001b[39m \u001b[43m    \u001b[49m\u001b[38;5;28;43;01mdef\u001b[39;49;00m\u001b[38;5;250;43m \u001b[39;49m\u001b[34;43m__init__\u001b[39;49m\u001b[43m(\u001b[49m\u001b[38;5;28;43mself\u001b[39;49m\u001b[43m)\u001b[49m\u001b[43m:\u001b[49m\n\u001b[32m      3\u001b[39m \u001b[43m        \u001b[49m\u001b[38;5;28;43mself\u001b[39;49m\u001b[43m.\u001b[49m\u001b[43mrevenue\u001b[49m\u001b[43m \u001b[49m\u001b[43m=\u001b[49m\u001b[43m \u001b[49m\u001b[32;43m0.0\u001b[39;49m\n",
      "\u001b[36mCell\u001b[39m\u001b[36m \u001b[39m\u001b[32mIn[7]\u001b[39m\u001b[32m, line 39\u001b[39m, in \u001b[36mBusinessCalculator\u001b[39m\u001b[34m()\u001b[39m\n\u001b[32m     36\u001b[39m         \u001b[38;5;28mself\u001b[39m.margin = (\u001b[38;5;28mself\u001b[39m.profit / \u001b[38;5;28mself\u001b[39m.revenue) * \u001b[32m100\u001b[39m\n\u001b[32m     37\u001b[39m     \u001b[38;5;28;01mreturn\u001b[39;00m \u001b[38;5;28mself\u001b[39m.margin\n\u001b[32m---> \u001b[39m\u001b[32m39\u001b[39m \u001b[38;5;28mprint\u001b[39m(\u001b[43mcalculate_profit\u001b[49m\u001b[43m(\u001b[49m\u001b[43m)\u001b[49m)\n",
      "\u001b[36mCell\u001b[39m\u001b[36m \u001b[39m\u001b[32mIn[7]\u001b[39m\u001b[32m, line 28\u001b[39m, in \u001b[36mBusinessCalculator.calculate_profit\u001b[39m\u001b[34m()\u001b[39m\n\u001b[32m     26\u001b[39m \u001b[38;5;28;01mdef\u001b[39;00m\u001b[38;5;250m \u001b[39m\u001b[34mcalculate_profit\u001b[39m():\n\u001b[32m     27\u001b[39m \u001b[38;5;250m    \u001b[39m\u001b[33;03m\"\"\"profit\"\"\"\u001b[39;00m\n\u001b[32m---> \u001b[39m\u001b[32m28\u001b[39m     profit = \u001b[43mget_revenue\u001b[49m() - get_costs()\n\u001b[32m     29\u001b[39m     \u001b[38;5;28;01mreturn\u001b[39;00m profit\n",
      "\u001b[31mNameError\u001b[39m: name 'get_revenue' is not defined"
     ]
    }
   ],
   "source": [
    "class BusinessCalculator:\n",
    "    def __init__(self):\n",
    "        self.revenue = 0.0\n",
    "        self.costs = 0.0\n",
    "        self.profit = 0.0\n",
    "        self.margin = 0.0\n",
    "\n",
    "    def get_revenue(self):\n",
    "        \"\"\"ask for revenue\"\"\"\n",
    "        while True:\n",
    "            try:\n",
    "                self.revenue = float(input(\"revenue (€): \"))\n",
    "                break\n",
    "            except ValueError:\n",
    "                print(\"pls give a right number\")\n",
    "\n",
    "    def get_costs(self):\n",
    "        \"\"\"ask for cost\"\"\"\n",
    "        while True:\n",
    "            try:\n",
    "                self.costs = float(input(\"costs (€): \"))\n",
    "                break\n",
    "            except ValueError:\n",
    "                print(\"pls give a right number\")\n",
    "\n",
    "    def calculate_profit():\n",
    "        \"\"\"profit\"\"\" \n",
    "        profit = BusinessCalculator.get_revenue() - BusinessCalculator.get_costs()\n",
    "        return profit\n",
    "\n",
    "    def calculate_margin(self):\n",
    "        \"\"\"margin in % \"\"\"\n",
    "        if self.revenue == 0:\n",
    "            self.margin = None\n",
    "        else:\n",
    "            self.margin = (self.profit / self.revenue) * 100\n",
    "        return self.margin\n",
    "    \n",
    "    print(calculate_profit())\n",
    "\n"
   ]
  }
 ],
 "metadata": {
  "kernelspec": {
   "display_name": "3.11.2",
   "language": "python",
   "name": "python3"
  },
  "language_info": {
   "codemirror_mode": {
    "name": "ipython",
    "version": 3
   },
   "file_extension": ".py",
   "mimetype": "text/x-python",
   "name": "python",
   "nbconvert_exporter": "python",
   "pygments_lexer": "ipython3",
   "version": "3.11.2"
  }
 },
 "nbformat": 4,
 "nbformat_minor": 5
}
