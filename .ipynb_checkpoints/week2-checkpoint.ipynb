{
 "cells": [
  {
   "cell_type": "code",
   "execution_count": 1,
   "id": "bd7f57f7-9b31-47a2-8da3-c0e4fdbcbe08",
   "metadata": {},
   "outputs": [
    {
     "name": "stdout",
     "output_type": "stream",
     "text": [
      "hello\n"
     ]
    }
   ],
   "source": [
    "print('hello')"
   ]
  },
  {
   "cell_type": "code",
   "execution_count": null,
   "id": "f9c72ed2-4475-4d05-8679-4ecc3bb91f95",
   "metadata": {},
   "outputs": [],
   "source": [
    "'''Business Profit CalculatorCalculates profit and margin percentagefrom revenue and cost data’’’\n",
    "\n",
    "# Get revenue from user\n",
    "\n",
    "revenue = float(input(\"Enter total revenue: $\"))\n",
    "# Get costs from user  \n",
    "\n",
    "costs = float(input(\"Enter total costs: $\"))\n",
    "\n",
    "# Calculate profit\n",
    "\n",
    "profit = revenue – costs\n",
    "\n",
    "# Calculate profit margin percentage\n",
    "\n",
    "margin = (profit / revenue) * 100\n",
    "\n",
    "# Display results\n",
    "\n",
    "print(\"\\n--- Financial Summary ---\")\n",
    "print(f\"Revenue: ${revenue:,.2f}\")\n",
    "print(f\"Costs: ${costs:,.2f}\")\n",
    "print(f\"Profit: ${profit:,.2f}\")\n",
    "print(f\"Profit Margin: {margin:.1f}%\")\n",
    "\n",
    "def(\n"
   ]
  },
  {
   "cell_type": "code",
   "execution_count": 33,
   "id": "81a77d82-e8e7-4307-9732-de2eadf43f68",
   "metadata": {},
   "outputs": [
    {
     "name": "stdin",
     "output_type": "stream",
     "text": [
      "Enter total revenue: $ 33\n",
      "Enter total costs: $ 222\n"
     ]
    },
    {
     "name": "stdout",
     "output_type": "stream",
     "text": [
      "Profit: $-189.00\n",
      "Margin: -572.73%\n"
     ]
    }
   ],
   "source": [
    "\n",
    "def buisness_calculator():\n",
    "    revenue = float(input(\"Enter total revenue: $\"))\n",
    "    costs = float(input(\"Enter total costs: $\"))\n",
    "    \n",
    "  \n",
    "    \n",
    "    def calculate_profit(revenue, costs):\n",
    "        profit = revenue - costs \n",
    "        return profit\n",
    "    profit = calculate_profit(revenue, costs)\n",
    "        \n",
    "    \n",
    "    def calculate_margin(profit, revenue):\n",
    "       if revenue == 0:\n",
    "           margin = 0\n",
    "       else:\n",
    "           margin =  ((profit / revenue) * 100)\n",
    "       return margin \n",
    "    margin = calculate_margin(profit, revenue)\n",
    "    \n",
    "    def financial_summary(profit, margin):\n",
    "        print(f\"Profit: ${profit:.2f}\")\n",
    "        print(f\"Margin: {margin:.2f}%\")\n",
    "\n",
    "    financial_summary(profit, margin)\n",
    "\n",
    "\n",
    "buisness_calculator()"
   ]
  },
  {
   "cell_type": "code",
   "execution_count": null,
   "id": "a91572ac-13ce-4ccc-96eb-d7a1e138591b",
   "metadata": {},
   "outputs": [],
   "source": []
  }
 ],
 "metadata": {
  "kernelspec": {
   "display_name": "Python [conda env:base] *",
   "language": "python",
   "name": "conda-base-py"
  },
  "language_info": {
   "codemirror_mode": {
    "name": "ipython",
    "version": 3
   },
   "file_extension": ".py",
   "mimetype": "text/x-python",
   "name": "python",
   "nbconvert_exporter": "python",
   "pygments_lexer": "ipython3",
   "version": "3.12.7"
  }
 },
 "nbformat": 4,
 "nbformat_minor": 5
}
