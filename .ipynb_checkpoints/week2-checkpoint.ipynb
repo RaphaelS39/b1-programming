{
 "cells": [
  {
   "cell_type": "code",
   "execution_count": 1,
   "id": "bd7f57f7-9b31-47a2-8da3-c0e4fdbcbe08",
   "metadata": {},
   "outputs": [
    {
     "name": "stdout",
     "output_type": "stream",
     "text": [
      "hello\n"
     ]
    }
   ],
   "source": [
    "print('hello')"
   ]
  },
  {
   "cell_type": "code",
   "execution_count": null,
   "id": "f9c72ed2-4475-4d05-8679-4ecc3bb91f95",
   "metadata": {},
   "outputs": [],
   "source": [
    "'''Business Profit CalculatorCalculates profit and margin percentagefrom revenue and cost data’’’\n",
    "\n",
    "# Get revenue from user\n",
    "\n",
    "revenue = float(input(\"Enter total revenue: $\"))\n",
    "# Get costs from user  \n",
    "\n",
    "costs = float(input(\"Enter total costs: $\"))\n",
    "\n",
    "# Calculate profit\n",
    "\n",
    "profit = revenue – costs\n",
    "\n",
    "# Calculate profit margin percentage\n",
    "\n",
    "margin = (profit / revenue) * 100\n",
    "\n",
    "# Display results\n",
    "\n",
    "print(\"\\n--- Financial Summary ---\")\n",
    "print(f\"Revenue: ${revenue:,.2f}\")\n",
    "print(f\"Costs: ${costs:,.2f}\")\n",
    "print(f\"Profit: ${profit:,.2f}\")\n",
    "print(f\"Profit Margin: {margin:.1f}%\")\n"
   ]
  }
 ],
 "metadata": {
  "kernelspec": {
   "display_name": "Python [conda env:base] *",
   "language": "python",
   "name": "conda-base-py"
  },
  "language_info": {
   "codemirror_mode": {
    "name": "ipython",
    "version": 3
   },
   "file_extension": ".py",
   "mimetype": "text/x-python",
   "name": "python",
   "nbconvert_exporter": "python",
   "pygments_lexer": "ipython3",
   "version": "3.12.7"
  }
 },
 "nbformat": 4,
 "nbformat_minor": 5
}
