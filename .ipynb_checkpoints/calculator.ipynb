{
 "cells": [
  {
   "cell_type": "code",
   "execution_count": 1,
   "id": "e7be1c83",
   "metadata": {},
   "outputs": [],
   "source": [
    "class BusinessCalculator:\n",
    "    def __init__(self):\n",
    "        self.revenue = 0.0\n",
    "        self.costs = 0.0\n",
    "        self.profit = 0.0\n",
    "        self.margin = 0.0\n",
    "\n",
    "    def get_revenue(self):\n",
    "        \"\"\"ask for revenue\"\"\"\n",
    "        while True:\n",
    "            try:\n",
    "                self.revenue = float(input(\"revenue (€): \"))\n",
    "                break\n",
    "            except ValueError:\n",
    "                print(\"pls give a right number\")\n",
    "\n",
    "    def get_costs(self):\n",
    "        \"\"\"ask for cost\"\"\"\n",
    "        while True:\n",
    "            try:\n",
    "                self.costs = float(input(\"costs (€): \"))\n",
    "                break\n",
    "            except ValueError:\n",
    "                print(\"pls give a right number\")\n",
    "\n",
    "    def calculate_profit(self):\n",
    "        \"\"\"profit\"\"\"\n",
    "        self.profit = self.revenue - self.costs\n",
    "        return self.profit\n",
    "\n",
    "    def calculate_margin(self):\n",
    "        \"\"\"margin in % \"\"\"\n",
    "        if self.revenue == 0:\n",
    "            self.margin = None\n",
    "        else:\n",
    "            self.margin = (self.profit / self.revenue) * 100\n",
    "        return self.margin\n",
    "    \n",
    "\n",
    "\n"
   ]
  }
 ],
 "metadata": {
  "kernelspec": {
   "display_name": "3.11.2",
   "language": "python",
   "name": "python3"
  },
  "language_info": {
   "codemirror_mode": {
    "name": "ipython",
    "version": 3
   },
   "file_extension": ".py",
   "mimetype": "text/x-python",
   "name": "python",
   "nbconvert_exporter": "python",
   "pygments_lexer": "ipython3",
   "version": "3.11.2"
  }
 },
 "nbformat": 4,
 "nbformat_minor": 5
}
